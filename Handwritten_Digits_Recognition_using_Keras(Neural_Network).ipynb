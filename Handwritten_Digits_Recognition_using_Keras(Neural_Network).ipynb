{
  "nbformat": 4,
  "nbformat_minor": 0,
  "metadata": {
    "colab": {
      "provenance": [],
      "toc_visible": true,
      "authorship_tag": "ABX9TyOKC00TJavhopLQxGzcUx2U",
      "include_colab_link": true
    },
    "kernelspec": {
      "name": "python3",
      "display_name": "Python 3"
    },
    "language_info": {
      "name": "python"
    }
  },
  "cells": [
    {
      "cell_type": "markdown",
      "metadata": {
        "id": "view-in-github",
        "colab_type": "text"
      },
      "source": [
        "<a href=\"https://colab.research.google.com/github/Aarunimaa/Personal-Projects/blob/main/Handwritten_Digits_Recognition_using_Keras(Neural_Network).ipynb\" target=\"_parent\"><img src=\"https://colab.research.google.com/assets/colab-badge.svg\" alt=\"Open In Colab\"/></a>"
      ]
    },
    {
      "cell_type": "markdown",
      "source": [
        "# **Handwritten Digit Recognition using Neural Network**"
      ],
      "metadata": {
        "id": "jwXPQuKrBRvz"
      }
    },
    {
      "cell_type": "markdown",
      "source": [
        "The **MNIST dataset** is a widely used benchmark dataset in the field of machine learning and computer vision. It consists of a collection of 28x28 pixel grayscale images of handwritten digits from 0 to 9. The dataset contains 60,000 training images and 10,000 testing images. Each image is associated with a label indicating the digit it represents. The goal is to build a model that can accurately classify these digits."
      ],
      "metadata": {
        "id": "4s3I36npYNUY"
      }
    },
    {
      "cell_type": "markdown",
      "source": [
        "I employed **Keras**, a high-level deep learning library, to create and train a **neural network model** for the MNIST dataset. After loading and preprocessing the data, I designed the model architecture using Keras' intuitive Sequential API, configuring layers like convolutional and dense layers. Compiling the model involved specifying the optimizer, loss function, and evaluation metric. Through the .fit() method, I trained the model on the training data, monitored its performance on validation data, and evaluated it using the test dataset. Keras simplified this process by abstracting complex computations, making it easy to build, train, and evaluate neural networks, all while offering tools to visualize training progress and achieve accurate predictions."
      ],
      "metadata": {
        "id": "pOvwybypZDpS"
      }
    },
    {
      "cell_type": "markdown",
      "source": [
        "## **Importing required Packages**"
      ],
      "metadata": {
        "id": "j_tUBQTkBa9d"
      }
    },
    {
      "cell_type": "code",
      "execution_count": 76,
      "metadata": {
        "id": "xLcfeRjR3YIE"
      },
      "outputs": [],
      "source": [
        "from keras.datasets import mnist # the dataset on which we will be working\n",
        "\n",
        "import pandas as pd\n",
        "import numpy as np\n",
        "import matplotlib.pyplot as plt\n",
        "import matplotlib.image as mpimg\n",
        "import seaborn as sns\n",
        "%matplotlib inline\n",
        "\n",
        "from sklearn.model_selection import train_test_split\n",
        "from sklearn.metrics import confusion_matrix\n",
        "from sklearn.base import BaseEstimator\n",
        "from sklearn.model_selection import RandomizedSearchCV\n",
        "import itertools\n",
        "\n",
        "from keras.utils.np_utils import to_categorical # to convert to one-hot-encoding\n",
        "from keras.models import Sequential\n",
        "from keras.layers import Dense, Dropout, Flatten, Conv2D, MaxPool2D\n",
        "from keras.wrappers.scikit_learn import KerasClassifier\n",
        "from keras.optimizers import RMSprop\n",
        "from keras.preprocessing.image import ImageDataGenerator\n",
        "from keras.callbacks import ReduceLROnPlateau\n",
        "\n",
        "sns.set(style='white', palette='deep')"
      ]
    },
    {
      "cell_type": "markdown",
      "source": [
        "## **Load and View**"
      ],
      "metadata": {
        "id": "6LjebcM8Bf7u"
      }
    },
    {
      "cell_type": "markdown",
      "source": [
        "### **Loading and Splitting the Data**"
      ],
      "metadata": {
        "id": "JRkXD3w5ZKW_"
      }
    },
    {
      "cell_type": "code",
      "source": [
        "(x_train, y_train), (x_test, y_test) = mnist.load_data()"
      ],
      "metadata": {
        "id": "-itOl1SpyKPP",
        "colab": {
          "base_uri": "https://localhost:8080/"
        },
        "outputId": "afe79dc5-e4a7-44cb-86ee-02cf176f9ae0"
      },
      "execution_count": 4,
      "outputs": [
        {
          "output_type": "stream",
          "name": "stdout",
          "text": [
            "Downloading data from https://storage.googleapis.com/tensorflow/tf-keras-datasets/mnist.npz\n",
            "11490434/11490434 [==============================] - 0s 0us/step\n"
          ]
        }
      ]
    },
    {
      "cell_type": "markdown",
      "source": [
        "This directly loads the data from keras.datasets() and divides it nto test and training sets along with label and pixel values already separated as X and Y."
      ],
      "metadata": {
        "id": "11aUFdVmZaTP"
      }
    },
    {
      "cell_type": "markdown",
      "source": [
        "### **Displaying Few Digits**"
      ],
      "metadata": {
        "id": "4opmGIWeBqu_"
      }
    },
    {
      "cell_type": "markdown",
      "source": [
        "I have displayed a few digits from the dataset for a better understanding."
      ],
      "metadata": {
        "id": "qtYkUvjxiBKT"
      }
    },
    {
      "cell_type": "code",
      "source": [
        "example_digit_indices = [0, 1, 2, 3]  # Change these indices to display different digits\n",
        "\n",
        "# Display the selected digits in a 2x2 grid\n",
        "plt.figure(figsize=(4,4))\n",
        "for i, index in enumerate(example_digit_indices):\n",
        "    plt.subplot(2, 2, i + 1)\n",
        "    plt.imshow(x_train[index], cmap='copper')\n",
        "    plt.title(f\"Label: {y_train[index]}\")\n",
        "    plt.axis('off')\n",
        "\n",
        "plt.tight_layout()\n",
        "plt.show()"
      ],
      "metadata": {
        "colab": {
          "base_uri": "https://localhost:8080/",
          "height": 401
        },
        "id": "g1LNF00z4ynu",
        "outputId": "97563a07-8e1d-477d-e5f2-266b2f30ef9c"
      },
      "execution_count": 5,
      "outputs": [
        {
          "output_type": "display_data",
          "data": {
            "text/plain": [
              "<Figure size 400x400 with 4 Axes>"
            ],
            "image/png": "[encoded data removed]"
          },
          "metadata": {}
        }
      ]
    },
    {
      "cell_type": "markdown",
      "source": [
        "## **Data Preprocessing**"
      ],
      "metadata": {
        "id": "AhcC5cKpB6hX"
      }
    },
    {
      "cell_type": "markdown",
      "source": [
        "### **Converting the data into float type**"
      ],
      "metadata": {
        "id": "ffYMTPEHB_QP"
      }
    },
    {
      "cell_type": "markdown",
      "source": [
        " Many machine learning algorithms, including neural networks, work more efficiently and stably with numerical data. Using floating-point representations ensures that computations involving these values maintain a consistent precision, reducing the risk of numerical instability issues. Converting input features and target labels to float is a standard practice that ensures numerical stability, compatibility with neural network operations, and optimal performance during training."
      ],
      "metadata": {
        "id": "KOOwWq4UbZDQ"
      }
    },
    {
      "cell_type": "code",
      "source": [
        "x_train=x_train.astype('float32')\n",
        "y_train=y_train.astype('float32')\n",
        "x_test=x_test.astype('float32')\n",
        "y_test=y_test.astype('float32')"
      ],
      "metadata": {
        "id": "7jewx2tGyPBi"
      },
      "execution_count": 6,
      "outputs": []
    },
    {
      "cell_type": "markdown",
      "source": [
        "### **Displaying the Number of Digits Present**"
      ],
      "metadata": {
        "id": "Bx2TLw3CCH_7"
      }
    },
    {
      "cell_type": "markdown",
      "source": [
        "We can visualize what is the count of each digit present in the MNIST dataset."
      ],
      "metadata": {
        "id": "-MuG54sObk9G"
      }
    },
    {
      "cell_type": "code",
      "source": [
        "g = sns.countplot(x=y_train)\n",
        "for p in g.patches:\n",
        "    g.annotate(f'{int(p.get_height())}', (p.get_x() + p.get_width() / 2., p.get_height()), ha='center', va='bottom')\n",
        "plt.title(\"Countplot of the digits in the dataset\",pad=20)\n",
        "plt.show()"
      ],
      "metadata": {
        "colab": {
          "base_uri": "https://localhost:8080/",
          "height": 476
        },
        "id": "KZbh3uA4pOxx",
        "outputId": "04ed34a1-fa99-4a80-c01e-0e27925a311d"
      },
      "execution_count": 7,
      "outputs": [
        {
          "output_type": "display_data",
          "data": {
            "text/plain": [
              "<Figure size 640x480 with 1 Axes>"
            ],
            "image/png": "[encoded data removed]"
          },
          "metadata": {}
        }
      ]
    },
    {
      "cell_type": "markdown",
      "source": [
        "### **Normalizing the Data**"
      ],
      "metadata": {
        "id": "6LtsIqZvCru1"
      }
    },
    {
      "cell_type": "markdown",
      "source": [
        "Normalized data helps optimization algorithms converge faster and more consistently. Neural networks use gradient-based optimization techniques like gradient descent to update model parameters. When input features are on different scales, some features might dominate the learning process, leading to slower convergence or getting stuck in local minima. Normalization is essential for creating a well-behaved training process, promoting convergence, improving generalization, and ensuring that neural networks learn effectively from the data."
      ],
      "metadata": {
        "id": "bHl6D3CxcDZ5"
      }
    },
    {
      "cell_type": "code",
      "source": [
        "x_train=x_train/255.0\n",
        "x_test=x_test/255.0"
      ],
      "metadata": {
        "id": "Lbm1nkI1vZtp"
      },
      "execution_count": 8,
      "outputs": []
    },
    {
      "cell_type": "markdown",
      "source": [
        "### **Reshaping the Data**"
      ],
      "metadata": {
        "id": "L1c-3YlPCvzu"
      }
    },
    {
      "cell_type": "markdown",
      "source": [
        "Neural networks, including deep learning models, often expect input data to be in a specific shape. For example, **convolutional neural networks** (CNNs) require input data to have a 3D shape (height, width, channels), while fully connected layers often require flattened (1D) input data. Reshaping is necessary to ensure that our input data matches the expected shape of the neural network model. This step is essential for compatibility, efficient processing, and effective training of the model."
      ],
      "metadata": {
        "id": "vezf_MT3cFjX"
      }
    },
    {
      "cell_type": "code",
      "source": [
        "x_train = np.reshape(x_train, (-1, 28, 28, 1))\n",
        "x_test = np.reshape(x_test, (-1, 28, 28, 1))"
      ],
      "metadata": {
        "id": "t5GZ_tMCvZwJ"
      },
      "execution_count": 9,
      "outputs": []
    },
    {
      "cell_type": "markdown",
      "source": [
        "### **Converting the Digits to Category Datatype**"
      ],
      "metadata": {
        "id": "bfCzwAAqC2Fa"
      }
    },
    {
      "cell_type": "markdown",
      "source": [
        "Converting the target labels (y) to categorical format, often referred to as **one-hot encoding**, is a common practice when working with classification tasks, especially in deep learning and neural networks."
      ],
      "metadata": {
        "id": "xhM1dunYdJFC"
      }
    },
    {
      "cell_type": "markdown",
      "source": [
        "In classification problems with multiple classes (like the MNIST dataset, where **digits range from 0 to 9**), one-hot encoding helps represent the classes as distinct binary vectors. **Each vector has a single \"1\" (indicating the true class) and \"0\"s for other classes**. This format is suitable for training neural networks to predict multi-class labels. Neural networks process numerical data. One-hot encoding provides a numerical representation of categorical labels, allowing neural networks to handle them efficiently during computations. Converting y to categorical or one-hot encoded format is crucial for ensuring that neural networks can effectively learn and make predictions for multi-class classification tasks. It simplifies loss computation, gradient calculation, and model interpretation while aligning with the requirements of neural network architectures and libraries."
      ],
      "metadata": {
        "id": "xbQ8Btx_dKLd"
      }
    },
    {
      "cell_type": "code",
      "source": [
        "y_train = to_categorical(y_train, num_classes=10)\n",
        "y_test = to_categorical(y_test, num_classes=10)"
      ],
      "metadata": {
        "id": "f2aFi5jWvZy9"
      },
      "execution_count": 10,
      "outputs": []
    },
    {
      "cell_type": "markdown",
      "source": [
        "## **Defining the Model**"
      ],
      "metadata": {
        "id": "WrIYLjIDC_Tg"
      }
    },
    {
      "cell_type": "markdown",
      "source": [
        "The code below describes the architecture of a **convolutional neural network (CNN)** using the **Keras Sequential API** for image classification tasks on the MNIST dataset.\n",
        "This code below describes a CNN with multiple convolutional, pooling, and fully connected layers, along with dropout layers for regularization. It's designed to extract features from input images and classify them into one of the **10 digit classes** using the **softmax activation** function."
      ],
      "metadata": {
        "id": "mqtwxCslkD2i"
      }
    },
    {
      "cell_type": "code",
      "source": [
        "defined_model = Sequential([\n",
        "    Conv2D(filters=32, kernel_size=(5, 5), padding='Same', activation='relu', input_shape=(28, 28, 1)),\n",
        "    Conv2D(filters=32, kernel_size=(5, 5), padding='Same', activation='relu'),\n",
        "    MaxPool2D(pool_size=(2, 2)),\n",
        "    Dropout(0.25),\n",
        "    Conv2D(filters=64, kernel_size=(3, 3), padding='Same', activation='relu'),\n",
        "    Conv2D(filters=64, kernel_size=(3, 3), padding='Same', activation='relu'),\n",
        "    MaxPool2D(pool_size=(2, 2), strides=(2, 2)),\n",
        "    Dropout(0.25),\n",
        "    Flatten(input_shape=(28, 28, 1)),\n",
        "    Dense(256, activation='relu'),\n",
        "    Dropout(0.5),\n",
        "    Dense(10, activation='softmax')\n",
        "])"
      ],
      "metadata": {
        "id": "C-MMcb_ZvZ8V"
      },
      "execution_count": 53,
      "outputs": []
    },
    {
      "cell_type": "markdown",
      "source": [
        "**1. Convolutional Layer 1:**\n",
        "\n",
        " *Conv2D(filters=32, kernel_size=(5, 5), padding='Same',activation='relu', input_shape=(28, 28, 1))*\\\n",
        "First convolutional layer with 32 filters (feature detectors) of size 5x5.\\\n",
        "'Same' padding preserves the input image size.\\\n",
        "ReLU activation function introduces non-linearity.\\\n",
        "input_shape defines the shape of input images (28x28 pixels, 1 channel for grayscale images).\n",
        "\n",
        "**2. Convolutional Layer 2:**\n",
        "\n",
        "*Conv2D(filters=32, kernel_size=(5, 5), padding='Same', activation='relu')*\\\n",
        "Second convolutional layer with 32 filters of size 5x5.\\\n",
        "'Same' padding and ReLU activation.\n",
        "\n",
        "**3. MaxPooling Layer 1:**\n",
        "\n",
        "*MaxPool2D(pool_size=(2, 2))*\\\n",
        "Max-pooling layer with a pool size of 2x2 to downsample feature maps.\n",
        "\n",
        "**4. Dropout Layer 1:**\n",
        "\n",
        "*Dropout(0.25)*\\\n",
        "Regularization layer that randomly drops 25% of neuron outputs during training to prevent overfitting.\n",
        "\n",
        "**5. Convolutional Layer 3:**\n",
        "\n",
        "*Conv2D(filters=64, kernel_size=(3, 3), padding='Same', activation='relu')*\\\n",
        "Third convolutional layer with 64 filters of size 3x3.\n",
        "\n",
        "**6. Convolutional Layer 4:**\n",
        "\n",
        "*Conv2D(filters=64, kernel_size=(3, 3), padding='Same', activation='relu')*\\\n",
        "Fourth convolutional layer with 64 filters of size 3x3.\n",
        "\n",
        "**7. MaxPooling Layer 2:**\n",
        "\n",
        "*MaxPool2D(pool_size=(2, 2), strides=(2, 2))*\\\n",
        "Max-pooling layer with a pool size of 2x2 and a stride of 2x2.\n",
        "\n",
        "**8. Dropout Layer 2:**\n",
        "\n",
        "*Dropout(0.25)*\\\n",
        "Regularization layer, same as Dropout Layer 1.\n",
        "\n",
        "**9. Flatten Layer:**\n",
        "\n",
        "*Flatten()*\\\n",
        "Flattens the 2D feature maps into a 1D vector.\n",
        "\n",
        "**10. Dense Layer 1:**\n",
        "\n",
        "*Dense(256, activation='relu')*\\\n",
        "Fully connected layer with 256 neurons and ReLU activation.\n",
        "\n",
        "**11. Dropout Layer 3:**\n",
        "\n",
        "*Dropout(0.5)*\\\n",
        "Regularization layer that randomly drops 50% of neuron outputs during training.\n",
        "\n",
        "**12. Dense Layer 2 (Output Layer):**\n",
        "\n",
        "*Dense(10, activation='softmax')*\\\n",
        "Fully connected output layer with 10 neurons (one for each digit class) and softmax activation to produce class probabilities."
      ],
      "metadata": {
        "id": "QfkUSdofkOBx"
      }
    },
    {
      "cell_type": "markdown",
      "source": [
        "## **Hyperparameter Tuning**"
      ],
      "metadata": {
        "id": "23uwTEfp7sgH"
      }
    },
    {
      "cell_type": "markdown",
      "source": [
        "Hyperparameter tuning is essential for maximizing the potential of machine learning models. It helps achieve better performance, prevents overfitting, saves time and resources, and tailors the model to the specific characteristics of the data and problem at hand."
      ],
      "metadata": {
        "id": "ODDQ7o65n2i-"
      }
    },
    {
      "cell_type": "markdown",
      "source": [
        "### **Random Search**"
      ],
      "metadata": {
        "id": "m2HA85zvMPX9"
      }
    },
    {
      "cell_type": "markdown",
      "source": [
        "Random search is a hyperparameter optimization technique used to find the best combination of hyperparameters for a machine learning model. Hyperparameters are parameters that are not learned during training but need to be set before training, such as learning rate, number of hidden units in a neural network, or regularization strength.\n",
        "\n",
        "In contrast to grid search, where you exhaustively try all possible combinations of hyperparameters from predefined grids, random search randomly samples combinations of hyperparameters from specified distributions. This approach can be more efficient and effective in finding good hyperparameters, especially when the search space is large."
      ],
      "metadata": {
        "id": "Xah4NqbARmPr"
      }
    },
    {
      "cell_type": "code",
      "source": [
        "# Define a function to create the Keras model\n",
        "def create_keras_model(learning_rate=0.001):\n",
        "    model = defined_model\n",
        "    optimizer = Adam(learning_rate=learning_rate)\n",
        "    model.compile(optimizer=optimizer, loss='categorical_crossentropy', metrics=['accuracy'])\n",
        "    return model\n",
        "\n",
        "# Create the KerasClassifier wrapper\n",
        "keras_classifier = KerasClassifier(build_fn=create_keras_model, verbose=0)\n"
      ],
      "metadata": {
        "colab": {
          "base_uri": "https://localhost:8080/"
        },
        "id": "hUiWv-iDTxV4",
        "outputId": "6e2a3b81-4211-4a23-c8e5-1568de575a10"
      },
      "execution_count": 96,
      "outputs": [
        {
          "output_type": "stream",
          "name": "stderr",
          "text": [
            "<ipython-input-96-4c5b80b54285>:9: DeprecationWarning: KerasClassifier is deprecated, use Sci-Keras (https://github.com/adriangb/scikeras) instead. See https://www.adriangb.com/scikeras/stable/migration.html for help migrating.\n",
            "  keras_classifier = KerasClassifier(build_fn=create_keras_model, verbose=0)\n"
          ]
        }
      ]
    },
    {
      "cell_type": "markdown",
      "source": [
        "The create_keras_model function is designed to create a Keras neural network model with a specified learning rate for the optimizer. The KerasClassifier wrapper then utilizes this function to create a scikit-learn-compatible classifier that can be used for various tasks like hyperparameter tuning, cross-validation, and more. The defined_model should be previously defined elsewhere in your code and contains the architecture of the neural network model you want to use."
      ],
      "metadata": {
        "id": "crta4GROjQd_"
      }
    },
    {
      "cell_type": "markdown",
      "source": [
        "**Define initial hyperparameter distributions for random search**"
      ],
      "metadata": {
        "id": "BTOR0WMyUc8N"
      }
    },
    {
      "cell_type": "markdown",
      "source": [
        "I have defined a set of values for three of the hyperparameters to be tuned. These values will be used in the random search algorithm to obtain the best possible combination."
      ],
      "metadata": {
        "id": "O3wgMpFzimiR"
      }
    },
    {
      "cell_type": "code",
      "source": [
        "param_dist = {\n",
        "    'learning_rate': [0.001, 0.01, 0.1],\n",
        "    'epochs': [10, 20, 30],\n",
        "    'batch_size': [16, 32, 64]\n",
        "}"
      ],
      "metadata": {
        "id": "y4Evq7xGMShg"
      },
      "execution_count": 81,
      "outputs": []
    },
    {
      "cell_type": "markdown",
      "source": [
        "**Initializing the random search and fitting on the training data**"
      ],
      "metadata": {
        "id": "HayCJ2UDYlmB"
      }
    },
    {
      "cell_type": "code",
      "source": [
        "# Initialize RandomizedSearchCV\n",
        "random_search = RandomizedSearchCV(estimator=keras_classifier, param_distributions=param_dist,\n",
        "                                   n_iter=10, cv=3, verbose=1, n_jobs=-1, scoring='accuracy')\n",
        "\n",
        "# Perform random search on training data\n",
        "random_search.fit(x_train, y_train)"
      ],
      "metadata": {
        "colab": {
          "base_uri": "https://localhost:8080/",
          "height": 362
        },
        "id": "dakioXLsMXTe",
        "outputId": "2d440ad0-d9ce-43bf-9c45-a0c40b86ae8a"
      },
      "execution_count": 89,
      "outputs": [
        {
          "output_type": "stream",
          "name": "stdout",
          "text": [
            "Fitting 3 folds for each of 10 candidates, totalling 30 fits\n"
          ]
        },
        {
          "output_type": "stream",
          "name": "stderr",
          "text": [
            "/usr/local/lib/python3.10/dist-packages/sklearn/model_selection/_search.py:952: UserWarning: One or more of the test scores are non-finite: [nan nan nan nan nan nan nan nan nan nan]\n",
            "  warnings.warn(\n"
          ]
        },
        {
          "output_type": "execute_result",
          "data": {
            "text/plain": [
              "RandomizedSearchCV(cv=3,\n",
              "                   estimator=<keras.wrappers.scikit_learn.KerasClassifier object at 0x7a95600b98a0>,\n",
              "                   n_jobs=-1,\n",
              "                   param_distributions={'batch_size': [16, 32, 64],\n",
              "                                        'epochs': [10, 20, 30],\n",
              "                                        'learning_rate': [0.001, 0.01, 0.1]},\n",
              "                   scoring='accuracy', verbose=1)"
            ],
            "text/html": [
              "<style>#sk-container-id-1 {color: black;background-color: white;}#sk-container-id-1 pre{padding: 0;}#sk-container-id-1 div.sk-toggleable {background-color: white;}#sk-container-id-1 label.sk-toggleable__label {cursor: pointer;display: block;width: 100%;margin-bottom: 0;padding: 0.3em;box-sizing: border-box;text-align: center;}#sk-container-id-1 label.sk-toggleable__label-arrow:before {content: \"▸\";float: left;margin-right: 0.25em;color: #696969;}#sk-container-id-1 label.sk-toggleable__label-arrow:hover:before {color: black;}#sk-container-id-1 div.sk-estimator:hover label.sk-toggleable__label-arrow:before {color: black;}#sk-container-id-1 div.sk-toggleable__content {max-height: 0;max-width: 0;overflow: hidden;text-align: left;background-color: #f0f8ff;}#sk-container-id-1 div.sk-toggleable__content pre {margin: 0.2em;color: black;border-radius: 0.25em;background-color: #f0f8ff;}#sk-container-id-1 input.sk-toggleable__control:checked~div.sk-toggleable__content {max-height: 200px;max-width: 100%;overflow: auto;}#sk-container-id-1 input.sk-toggleable__control:checked~label.sk-toggleable__label-arrow:before {content: \"▾\";}#sk-container-id-1 div.sk-estimator input.sk-toggleable__control:checked~label.sk-toggleable__label {background-color: #d4ebff;}#sk-container-id-1 div.sk-label input.sk-toggleable__control:checked~label.sk-toggleable__label {background-color: #d4ebff;}#sk-container-id-1 input.sk-hidden--visually {border: 0;clip: rect(1px 1px 1px 1px);clip: rect(1px, 1px, 1px, 1px);height: 1px;margin: -1px;overflow: hidden;padding: 0;position: absolute;width: 1px;}#sk-container-id-1 div.sk-estimator {font-family: monospace;background-color: #f0f8ff;border: 1px dotted black;border-radius: 0.25em;box-sizing: border-box;margin-bottom: 0.5em;}#sk-container-id-1 div.sk-estimator:hover {background-color: #d4ebff;}#sk-container-id-1 div.sk-parallel-item::after {content: \"\";width: 100%;border-bottom: 1px solid gray;flex-grow: 1;}#sk-container-id-1 div.sk-label:hover label.sk-toggleable__label {background-color: #d4ebff;}#sk-container-id-1 div.sk-serial::before {content: \"\";position: absolute;border-left: 1px solid gray;box-sizing: border-box;top: 0;bottom: 0;left: 50%;z-index: 0;}#sk-container-id-1 div.sk-serial {display: flex;flex-direction: column;align-items: center;background-color: white;padding-right: 0.2em;padding-left: 0.2em;position: relative;}#sk-container-id-1 div.sk-item {position: relative;z-index: 1;}#sk-container-id-1 div.sk-parallel {display: flex;align-items: stretch;justify-content: center;background-color: white;position: relative;}#sk-container-id-1 div.sk-item::before, #sk-container-id-1 div.sk-parallel-item::before {content: \"\";position: absolute;border-left: 1px solid gray;box-sizing: border-box;top: 0;bottom: 0;left: 50%;z-index: -1;}#sk-container-id-1 div.sk-parallel-item {display: flex;flex-direction: column;z-index: 1;position: relative;background-color: white;}#sk-container-id-1 div.sk-parallel-item:first-child::after {align-self: flex-end;width: 50%;}#sk-container-id-1 div.sk-parallel-item:last-child::after {align-self: flex-start;width: 50%;}#sk-container-id-1 div.sk-parallel-item:only-child::after {width: 0;}#sk-container-id-1 div.sk-dashed-wrapped {border: 1px dashed gray;margin: 0 0.4em 0.5em 0.4em;box-sizing: border-box;padding-bottom: 0.4em;background-color: white;}#sk-container-id-1 div.sk-label label {font-family: monospace;font-weight: bold;display: inline-block;line-height: 1.2em;}#sk-container-id-1 div.sk-label-container {text-align: center;}#sk-container-id-1 div.sk-container {/* jupyter's `normalize.less` sets `[hidden] { display: none; }` but bootstrap.min.css set `[hidden] { display: none !important; }` so we also need the `!important` here to be able to override the default hidden behavior on the sphinx rendered scikit-learn.org. See: https://github.com/scikit-learn/scikit-learn/issues/21755 */display: inline-block !important;position: relative;}#sk-container-id-1 div.sk-text-repr-fallback {display: none;}</style><div id=\"sk-container-id-1\" class=\"sk-top-container\"><div class=\"sk-text-repr-fallback\"><pre>RandomizedSearchCV(cv=3,\n",
              "                   estimator=&lt;keras.wrappers.scikit_learn.KerasClassifier object at 0x7a95600b98a0&gt;,\n",
              "                   n_jobs=-1,\n",
              "                   param_distributions={&#x27;batch_size&#x27;: [16, 32, 64],\n",
              "                                        &#x27;epochs&#x27;: [10, 20, 30],\n",
              "                                        &#x27;learning_rate&#x27;: [0.001, 0.01, 0.1]},\n",
              "                   scoring=&#x27;accuracy&#x27;, verbose=1)</pre><b>In a Jupyter environment, please rerun this cell to show the HTML representation or trust the notebook. <br />On GitHub, the HTML representation is unable to render, please try loading this page with nbviewer.org.</b></div><div class=\"sk-container\" hidden><div class=\"sk-item sk-dashed-wrapped\"><div class=\"sk-label-container\"><div class=\"sk-label sk-toggleable\"><input class=\"sk-toggleable__control sk-hidden--visually\" id=\"sk-estimator-id-1\" type=\"checkbox\" ><label for=\"sk-estimator-id-1\" class=\"sk-toggleable__label sk-toggleable__label-arrow\">RandomizedSearchCV</label><div class=\"sk-toggleable__content\"><pre>RandomizedSearchCV(cv=3,\n",
              "                   estimator=&lt;keras.wrappers.scikit_learn.KerasClassifier object at 0x7a95600b98a0&gt;,\n",
              "                   n_jobs=-1,\n",
              "                   param_distributions={&#x27;batch_size&#x27;: [16, 32, 64],\n",
              "                                        &#x27;epochs&#x27;: [10, 20, 30],\n",
              "                                        &#x27;learning_rate&#x27;: [0.001, 0.01, 0.1]},\n",
              "                   scoring=&#x27;accuracy&#x27;, verbose=1)</pre></div></div></div><div class=\"sk-parallel\"><div class=\"sk-parallel-item\"><div class=\"sk-item\"><div class=\"sk-label-container\"><div class=\"sk-label sk-toggleable\"><input class=\"sk-toggleable__control sk-hidden--visually\" id=\"sk-estimator-id-2\" type=\"checkbox\" ><label for=\"sk-estimator-id-2\" class=\"sk-toggleable__label sk-toggleable__label-arrow\">estimator: KerasClassifier</label><div class=\"sk-toggleable__content\"><pre>&lt;keras.wrappers.scikit_learn.KerasClassifier object at 0x7a95600b98a0&gt;</pre></div></div></div><div class=\"sk-serial\"><div class=\"sk-item\"><div class=\"sk-estimator sk-toggleable\"><input class=\"sk-toggleable__control sk-hidden--visually\" id=\"sk-estimator-id-3\" type=\"checkbox\" ><label for=\"sk-estimator-id-3\" class=\"sk-toggleable__label sk-toggleable__label-arrow\">KerasClassifier</label><div class=\"sk-toggleable__content\"><pre>&lt;keras.wrappers.scikit_learn.KerasClassifier object at 0x7a95600b98a0&gt;</pre></div></div></div></div></div></div></div></div></div></div>"
            ]
          },
          "metadata": {},
          "execution_count": 89
        }
      ]
    },
    {
      "cell_type": "markdown",
      "source": [
        " A hyperparameter tuning process using scikit-learn's RandomizedSearchCV is used to find the optimal set of hyperparameters for your Keras neural network model. The goal is to improve the model's performance on the training data and, consequently, its generalization to unseen data.\n",
        "\n",
        " The fit method of the RandomizedSearchCV class iterates over the specified number of parameter settings, trains the keras_classifier on different combinations of hyperparameters, and evaluates their performance using cross-validation. The training data x_train and corresponding labels y_train are provided to the search."
      ],
      "metadata": {
        "id": "z_AUypXNjvS2"
      }
    },
    {
      "cell_type": "markdown",
      "source": [
        "**Best Values**"
      ],
      "metadata": {
        "id": "DdYQVyhVYr5b"
      }
    },
    {
      "cell_type": "markdown",
      "source": [
        "The best combination is obtained."
      ],
      "metadata": {
        "id": "2wq0cUBnjZ7s"
      }
    },
    {
      "cell_type": "code",
      "source": [
        "# Print the best parameters and score\n",
        "print(\"Best parameters:\", random_search.best_params_)"
      ],
      "metadata": {
        "colab": {
          "base_uri": "https://localhost:8080/"
        },
        "id": "PgRWqeMgMnhy",
        "outputId": "b5124328-e222-467c-857c-790848eb64a7"
      },
      "execution_count": 97,
      "outputs": [
        {
          "output_type": "stream",
          "name": "stdout",
          "text": [
            "Best parameters: {'learning_rate': 0.01, 'epochs': 20, 'batch_size': 16}\n"
          ]
        }
      ]
    },
    {
      "cell_type": "markdown",
      "source": [
        "**Stroing for further use**"
      ],
      "metadata": {
        "id": "xibNQbw8Yvds"
      }
    },
    {
      "cell_type": "code",
      "source": [
        "best_epochs = random_search.best_params_['epochs']\n",
        "best_batch_size = random_search.best_params_['batch_size']\n",
        "best_learning_rate = random_search.best_params_['learning_rate']"
      ],
      "metadata": {
        "id": "seWq5xSqPQmh"
      },
      "execution_count": 92,
      "outputs": []
    },
    {
      "cell_type": "markdown",
      "source": [
        "Thus we have the best combination of our hyperparameters which we can now use to obtain the best results."
      ],
      "metadata": {
        "id": "T_xjBa31iR-5"
      }
    },
    {
      "cell_type": "markdown",
      "source": [
        "### **Defining the Optimizier and Compiling the Model**"
      ],
      "metadata": {
        "id": "YPK1eYCvDVKm"
      }
    },
    {
      "cell_type": "markdown",
      "source": [
        "The term \"optimizer\" refers to an algorithm used to update the weights and biases of the network during training. Optimizers play a crucial role in minimizing the loss function by adjusting the model's parameters iteratively. Common optimizers include stochastic gradient descent (SGD), Adam, RMSProp, and Adagrad. The **RMSprop optimizer** is a popular choice for training neural networks. It adapts the learning rate for each parameter based on the historical gradient information.\n",
        "\n",
        "After defining the optimizer, I have compiled the neural network model. Compilation involves specifying additional aspects of how the model should be trained.\n"
      ],
      "metadata": {
        "id": "JwYo0rbhpxK8"
      }
    },
    {
      "cell_type": "code",
      "source": [
        "# Define the optimizer\n",
        "optimizer = RMSprop(\n",
        "    learning_rate=best_learning_rate,   # Optimum learning rate for the optimizer.\n",
        "    rho=0.9,               # Exponential moving average decay factor for squared gradients.\n",
        "    epsilon=1e-08,         # Small value added to the denominator to prevent division by zero.\n",
        "    decay=0.0              # Learning rate decay over each update.\n",
        ")\n",
        "\n",
        "# Compile the model\n",
        "model.compile(\n",
        "    optimizer=optimizer,   # Optimizer instance to be used for training.\n",
        "    loss='categorical_crossentropy',  # Loss function for optimization.\n",
        "    metrics=['accuracy']   # List of evaluation metrics to monitor during training.\n",
        ")"
      ],
      "metadata": {
        "id": "NPsKHp_svZ-s"
      },
      "execution_count": 93,
      "outputs": []
    },
    {
      "cell_type": "markdown",
      "source": [
        "### **Setting Epoch and Batch Size**"
      ],
      "metadata": {
        "id": "FDPuRYv2E7nh"
      }
    },
    {
      "cell_type": "markdown",
      "source": [
        "'epochs' and 'batch_size' are crucial hyperparameters in training a neural network. epochs controls how many times the model learns from the entire dataset, while batch_size determines the number of examples used in each update iteration. Balancing these values is essential for achieving good convergence and generalization performance during training."
      ],
      "metadata": {
        "id": "9OU2vhS8a8wT"
      }
    },
    {
      "cell_type": "code",
      "source": [
        "epochs = best_epochs          # Number of times the entire dataset is passed through the model during training.\n",
        "batch_size = best_batch_size     # Number of samples processed in each iteration during training."
      ],
      "metadata": {
        "id": "5a7ipAMivazx"
      },
      "execution_count": 94,
      "outputs": []
    },
    {
      "cell_type": "markdown",
      "source": [
        "## **Model FItting**"
      ],
      "metadata": {
        "id": "bHLp-3kFJU9X"
      }
    },
    {
      "cell_type": "markdown",
      "source": [
        "### **Without Data Augmentation**"
      ],
      "metadata": {
        "id": "9KWlU9d4_4j9"
      }
    },
    {
      "cell_type": "markdown",
      "source": [
        "**Fitting the model**"
      ],
      "metadata": {
        "id": "FZXd-EBlDyKw"
      }
    },
    {
      "cell_type": "code",
      "source": [
        "history = model.fit(x_train, y_train, epochs=epochs, batch_size=batch_size,\n",
        "                    validation_data=(x_test, y_test))"
      ],
      "metadata": {
        "colab": {
          "base_uri": "https://localhost:8080/"
        },
        "id": "yiOaQlGwva2j",
        "outputId": "5e0381c4-1f02-4f79-f72a-6c7e0671c2b1"
      },
      "execution_count": 15,
      "outputs": [
        {
          "output_type": "stream",
          "name": "stdout",
          "text": [
            "698/698 [==============================] - 487s 696ms/step - loss: 0.1833 - accuracy: 0.9430 - val_loss: 0.0385 - val_accuracy: 0.9869\n"
          ]
        }
      ]
    },
    {
      "cell_type": "markdown",
      "source": [
        "The fit() method is a core step in training a neural network model, where the model learns from the training data, adjusts its weights, and improves its ability to make accurate predictions. The training process involves multiple iterations (epochs), and the history object captures important information about this process for analysis and visualization."
      ],
      "metadata": {
        "id": "Oc_zeZxhuhdQ"
      }
    },
    {
      "cell_type": "markdown",
      "source": [
        "**Testing Model Efficiency**"
      ],
      "metadata": {
        "id": "XXLcNooUD2LD"
      }
    },
    {
      "cell_type": "markdown",
      "source": [
        " Train and test loss measure prediction error, while train and test accuracy measure prediction correctness."
      ],
      "metadata": {
        "id": "n4RzR3lTuoPU"
      }
    },
    {
      "cell_type": "code",
      "source": [
        "# Evaluate the model on training data\n",
        "train_loss, train_accuracy = model.evaluate(x_train, y_train)\n",
        "print(f\"Training Loss: {train_loss:.4f}\")\n",
        "print(f\"Training Accuracy: {train_accuracy:.4f}\")\n",
        "\n",
        "# Evaluate the model on test data\n",
        "test_loss, test_accuracy = model.evaluate(x_test, y_test)\n",
        "print(f\"Test Loss: {test_loss:.4f}\")\n",
        "print(f\"Test Accuracy: {test_accuracy:.4f}\")"
      ],
      "metadata": {
        "colab": {
          "base_uri": "https://localhost:8080/"
        },
        "id": "CRhWW8RSBG9n",
        "outputId": "1ff1c501-acdf-4149-ff38-3663a90977a9"
      },
      "execution_count": 16,
      "outputs": [
        {
          "output_type": "stream",
          "name": "stdout",
          "text": [
            "1875/1875 [==============================] - 106s 57ms/step - loss: 0.0447 - accuracy: 0.9870\n",
            "Training Loss: 0.0447\n",
            "Training Accuracy: 0.9870\n",
            "313/313 [==============================] - 17s 55ms/step - loss: 0.0385 - accuracy: 0.9869\n",
            "Test Loss: 0.0385\n",
            "Test Accuracy: 0.9869\n"
          ]
        }
      ]
    },
    {
      "cell_type": "markdown",
      "source": [
        "*We can see that training accuracy is more than test accuracy, hence there is overfitting in our model. So, we will use **data augmentation** to remove the overfitting and get better test accuracy scores.*"
      ],
      "metadata": {
        "id": "bG8vIB2sKIIG"
      }
    },
    {
      "cell_type": "markdown",
      "source": [
        "**Confusion Matrix**"
      ],
      "metadata": {
        "id": "bakygMU2Eycu"
      }
    },
    {
      "cell_type": "markdown",
      "source": [
        "Plotting a confusion matrix provides a compact and informative visualization of a classification model's performance. It helps us identify patterns in classification errors and guides us in making decisions to enhance the model's accuracy and generalization."
      ],
      "metadata": {
        "id": "ZM9FBu3iv2Jk"
      }
    },
    {
      "cell_type": "code",
      "source": [
        "y_pred = model.predict(x_test)\n",
        "y_pred_classes = np.argmax(y_pred, axis=1)  # to find the position (index) of the maximum value along the column of y_pred\n",
        "y_true = np.argmax(y_test, axis=1)\n",
        "\n",
        "# Computing confusion matrix\n",
        "confusion_mtx = confusion_matrix(y_true, y_pred_classes)\n",
        "\n",
        "# Plotting confusion matrix as a heatmap\n",
        "plt.figure(figsize=(10,8))\n",
        "sns.heatmap(confusion_mtx, annot=True, fmt='d', cmap='coolwarm',\n",
        "            xticklabels=[str(i) for i in range(10)], yticklabels=[str(i) for i in range(10)])\n",
        "plt.xlabel('Predicted Labels')\n",
        "plt.ylabel('True Labels')\n",
        "plt.title('Confusion Matrix')\n",
        "plt.show()"
      ],
      "metadata": {
        "colab": {
          "base_uri": "https://localhost:8080/",
          "height": 744
        },
        "id": "46v-nXw-D-mb",
        "outputId": "4071be1d-40ae-46b8-96dd-495ae4cfc3d3"
      },
      "execution_count": 17,
      "outputs": [
        {
          "output_type": "stream",
          "name": "stdout",
          "text": [
            "313/313 [==============================] - 16s 51ms/step\n"
          ]
        },
        {
          "output_type": "display_data",
          "data": {
            "text/plain": [
              "<Figure size 1000x800 with 2 Axes>"
            ],
            "image/png": "[encoded data removed]"
          },
          "metadata": {}
        }
      ]
    },
    {
      "cell_type": "markdown",
      "source": [
        "### **With Data Augmentation**"
      ],
      "metadata": {
        "id": "tvM9gr5D_x8V"
      }
    },
    {
      "cell_type": "markdown",
      "source": [
        "Data augmentation is a technique used in machine learning, particularly in computer vision tasks, to **artificially expand the size of a dataset** by creating variations of existing data points. This is achieved through various transformations applied to the original data, resulting in new instances that are realistic and **representative of the original data distribution**. Data augmentation is commonly used to improve the generalization and robustness of machine learning models, especially neural networks.\\\n",
        "Increasing the diversity of training data can **help prevent overfitting**, where a model performs well on training data but poorly on new, unseen data."
      ],
      "metadata": {
        "id": "Fv_X75_zwEeL"
      }
    },
    {
      "cell_type": "markdown",
      "source": [
        "**Defining the data augmentation model**"
      ],
      "metadata": {
        "id": "kn1QgwXvX8LH"
      }
    },
    {
      "cell_type": "code",
      "source": [
        "# Define data augmentation using ImageDataGenerator\n",
        "datagen = ImageDataGenerator(\n",
        "    rotation_range=10,          # Range of rotation angles (in degrees) for randomly rotating images.\n",
        "    zoom_range=0.1,             # Range for random zooming (e.g., zooming in or out) of images.\n",
        "    width_shift_range=0.1,      # Range for random horizontal shifting (fraction of total width) of images.\n",
        "    height_shift_range=0.1,     # Range for random vertical shifting (fraction of total height) of images.\n",
        "    horizontal_flip=False,      # Whether to perform random horizontal flipping of images.\n",
        "    vertical_flip=False)        # Whether to perform random vertical flipping of images."
      ],
      "metadata": {
        "id": "FklTSxUsva--"
      },
      "execution_count": 19,
      "outputs": []
    },
    {
      "cell_type": "markdown",
      "source": [
        "The ImageDataGenerator creates variations of the original images by applying these transformations, effectively augmenting the dataset and introducing diversity for better model training. These augmented images are then used during model training to improve the model's ability to generalize to new, unseen data."
      ],
      "metadata": {
        "id": "CYgrK8VmxB45"
      }
    },
    {
      "cell_type": "markdown",
      "source": [
        "**Fitting the Model**"
      ],
      "metadata": {
        "id": "iB1isBPBVK77"
      }
    },
    {
      "cell_type": "code",
      "source": [
        "history = model.fit(datagen.flow(x_train, y_train, batch_size=batch_size),  # Fit the model using augmented data\n",
        "                    steps_per_epoch=len(x_train) // batch_size,      # Number of steps (batches) per epoch\n",
        "                    epochs=epochs,                                       # Number of epochs to train for\n",
        "                    validation_data=(x_test, y_test),              # Validation data for monitoring performance\n",
        "                    verbose=2)                                      # Verbosity level during training"
      ],
      "metadata": {
        "id": "bEcJr8KeHXqH",
        "colab": {
          "base_uri": "https://localhost:8080/"
        },
        "outputId": "139d31ce-3eb7-45b2-c32d-a2dbf4b9b1bf"
      },
      "execution_count": 20,
      "outputs": [
        {
          "output_type": "stream",
          "name": "stdout",
          "text": [
            "697/697 - 347s - loss: 0.3755 - accuracy: 0.8795 - val_loss: 0.0463 - val_accuracy: 0.9845 - 347s/epoch - 498ms/step\n"
          ]
        }
      ]
    },
    {
      "cell_type": "markdown",
      "source": [
        "The steps_per_epoch parameter ensures that the entire training dataset is processed in one epoch."
      ],
      "metadata": {
        "id": "zHAjwgEd2klZ"
      }
    },
    {
      "cell_type": "markdown",
      "source": [
        "**Testing Model Efficiency**"
      ],
      "metadata": {
        "id": "SiYTWdZuVDKi"
      }
    },
    {
      "cell_type": "markdown",
      "source": [
        "To test the model efficiency, we calculate the training and test accuracy."
      ],
      "metadata": {
        "id": "BIet6_XLXJ9T"
      }
    },
    {
      "cell_type": "code",
      "source": [
        "# Evaluate the model on training data\n",
        "train_loss, train_accuracy = model.evaluate(x_train, y_train)\n",
        "print(f\"Training Loss: {train_loss:.4f}\")\n",
        "print(f\"Training Accuracy: {train_accuracy:.4f}\")\n",
        "\n",
        "# Evaluate the model on test data\n",
        "test_loss, test_accuracy = model.evaluate(x_test, y_test)\n",
        "print(f\"Test Loss: {test_loss:.4f}\")\n",
        "print(f\"Test Accuracy: {test_accuracy:.4f}\")"
      ],
      "metadata": {
        "id": "eIRt_ubEHXtt",
        "colab": {
          "base_uri": "https://localhost:8080/"
        },
        "outputId": "56e4a364-f521-40fe-c10b-8f5c5972ce85"
      },
      "execution_count": 21,
      "outputs": [
        {
          "output_type": "stream",
          "name": "stdout",
          "text": [
            "1875/1875 [==============================] - 97s 52ms/step - loss: 0.0588 - accuracy: 0.9811\n",
            "Training Loss: 0.0588\n",
            "Training Accuracy: 0.9811\n",
            "313/313 [==============================] - 17s 53ms/step - loss: 0.0463 - accuracy: 0.9845\n",
            "Test Loss: 0.0463\n",
            "Test Accuracy: 0.9845\n"
          ]
        }
      ]
    },
    {
      "cell_type": "markdown",
      "source": [
        "*Now we see that test accuracy comes out be more than the training accuracy. Hence, the overfitting problem has been removed.*\\\n",
        "*Hence, Data Augmentation removes the problem of overfitting.*\n"
      ],
      "metadata": {
        "id": "XcerOvLaUUT5"
      }
    },
    {
      "cell_type": "markdown",
      "source": [
        "**Confusion Matrix**"
      ],
      "metadata": {
        "id": "BQshU4jJU67n"
      }
    },
    {
      "cell_type": "markdown",
      "source": [
        "We plot the confusion matrix to visualize the misclassifications."
      ],
      "metadata": {
        "id": "raxXaZfQW5Sg"
      }
    },
    {
      "cell_type": "code",
      "source": [
        "y_pred = model.predict(x_test)\n",
        "y_pred_classes = np.argmax(y_pred, axis=1)\n",
        "y_true = np.argmax(y_test, axis=1)\n",
        "\n",
        "# Computing confusion matrix\n",
        "confusion_mtx = confusion_matrix(y_true, y_pred_classes)\n",
        "\n",
        "# Plotting confusion matrix as a heatmap\n",
        "plt.figure(figsize=(10,8))\n",
        "sns.heatmap(confusion_mtx, annot=True, fmt='d', cmap='coolwarm',\n",
        "            xticklabels=[str(i) for i in range(10)], yticklabels=[str(i) for i in range(10)])\n",
        "plt.xlabel('Predicted Labels')\n",
        "plt.ylabel('True Labels')\n",
        "plt.title('Confusion Matrix')\n",
        "plt.show()"
      ],
      "metadata": {
        "id": "Zd5PX3sppO5f",
        "colab": {
          "base_uri": "https://localhost:8080/",
          "height": 744
        },
        "outputId": "473cac46-fcba-4b61-d0c8-29b1e2a8ba0a"
      },
      "execution_count": 22,
      "outputs": [
        {
          "output_type": "stream",
          "name": "stdout",
          "text": [
            "313/313 [==============================] - 16s 51ms/step\n"
          ]
        },
        {
          "output_type": "display_data",
          "data": {
            "text/plain": [
              "<Figure size 1000x800 with 2 Axes>"
            ],
            "image/png": "[encoded data removed]"
          },
          "metadata": {}
        }
      ]
    },
    {
      "cell_type": "markdown",
      "source": [
        "## **Misclassification Visualization**"
      ],
      "metadata": {
        "id": "xV2gmG395fyi"
      }
    },
    {
      "cell_type": "markdown",
      "source": [
        " Misclassification plots provide a clear and informative way to assess the model's performance beyond just accuracy. They help uncover the nuances of the model's errors, which in turn can guide strategies for enhancing the model's accuracy and generalization capabilities."
      ],
      "metadata": {
        "id": "m0K6lGLYHckr"
      }
    },
    {
      "cell_type": "markdown",
      "source": [
        "### **Finding the Errors**"
      ],
      "metadata": {
        "id": "XbnBsV4j5oBt"
      }
    },
    {
      "cell_type": "code",
      "source": [
        "# Errors are difference between predicted labels and true labels\n",
        "errors = (y_pred_classes - y_true != 0)\n",
        "\n",
        "y_pred_classes_errors = y_pred_classes[errors]\n",
        "y_pred_errors = y_pred[errors]\n",
        "y_true_errors = y_true[errors]\n",
        "x_test_errors = x_test[errors]"
      ],
      "metadata": {
        "id": "O5MZWxqp4DBW"
      },
      "execution_count": 23,
      "outputs": []
    },
    {
      "cell_type": "markdown",
      "source": [
        "### **Displaying the Misclassified Digits**"
      ],
      "metadata": {
        "id": "_f3keFdS5tn9"
      }
    },
    {
      "cell_type": "markdown",
      "source": [
        "I have displayed the digits along with their true and predicted labels to find out the common mistake patterns my model might make."
      ],
      "metadata": {
        "id": "iIVXWO4fJFG-"
      }
    },
    {
      "cell_type": "code",
      "source": [
        "def display_errors(errors_index, img_errors, pred_errors, obs_errors):\n",
        "    # This function shows 9 images with their predicted and real labels\n",
        "    n = 0\n",
        "    nrows = 3\n",
        "    ncols = 3\n",
        "    fig, ax = plt.subplots(nrows, ncols, figsize=(8,8), sharex=True, sharey=True)\n",
        "    for row in range(nrows):\n",
        "        for col in range(ncols):\n",
        "            error = errors_index[n]\n",
        "            ax[row, col].imshow((img_errors[error]).reshape((28, 28)), cmap=\"copper\")\n",
        "            ax[row, col].set_title(\"Predicted label: {}\\nTrue label: {}\".format(pred_errors[error], obs_errors[error]))\n",
        "            n += 1\n",
        "    plt.tight_layout()\n",
        "    plt.show()\n",
        "\n",
        "# Probabilities of the wrong predicted numbers\n",
        "y_pred_errors_prob = np.max(y_pred_errors,axis = 1)\n",
        "\n",
        "# Predicted probabilities of the true values in the error set\n",
        "true_prob_errors = np.diagonal(np.take(y_pred_errors, y_true_errors, axis=1))\n",
        "\n",
        "# Difference between the probability of the predicted label and the true label\n",
        "delta_pred_true_errors = y_pred_errors_prob - true_prob_errors\n",
        "\n",
        "# Sorted list of the delta prob errors\n",
        "sorted_dela_errors = np.argsort(delta_pred_true_errors)\n",
        "\n",
        "# Top 9 errors\n",
        "most_important_errors = sorted_dela_errors[-9:]\n",
        "\n",
        "# Show the top 9 errors\n",
        "display_errors(most_important_errors, x_test_errors, y_pred_classes_errors, y_true_errors)"
      ],
      "metadata": {
        "colab": {
          "base_uri": "https://localhost:8080/",
          "height": 801
        },
        "id": "rUpKPCgq4C-A",
        "outputId": "3520fd29-29ff-4a53-fac5-06ee18104f33"
      },
      "execution_count": 38,
      "outputs": [
        {
          "output_type": "display_data",
          "data": {
            "text/plain": [
              "<Figure size 800x800 with 9 Axes>"
            ],
            "image/png": "[encoded data removed]"
          },
          "metadata": {}
        }
      ]
    },
    {
      "cell_type": "markdown",
      "source": [
        "From the plot it can be seen:\n",
        "\n",
        "\n",
        "*   One of the common mistakes is the misclassification of visually similar digits. For example, a '4' might be misclassified as '9', or '3' as '5', due to the shared patterns in their shapes.\n",
        "*   In some cases, digits that are ambiguous even for human observers can cause misclassifications. For instance, a handwritten digit that could be interpreted as both '1' and '6' might lead to confusion for the model as well.\n",
        "* Some digits might share features with other digits, making them prone to misclassification. For instance, '2', '7' and '8' can have similar curved shapes in the handwriting.\n",
        "\n",
        "\n",
        "\n"
      ],
      "metadata": {
        "id": "OUvjd9iOILPK"
      }
    }
  ]
}